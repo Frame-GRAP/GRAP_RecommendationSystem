{
 "cells": [
  {
   "cell_type": "markdown",
   "metadata": {},
   "source": [
    "# 설명\n",
    "\n",
    "- 먼저 steamspy.com/api.php?request=all&page=1 부터 page 10까지 json을 일일이 저장 (또는 'ID로 게임 정보 받아오기'로 json을 받아와도 됨)\n",
    "- 이 후 json을 모두 합침 (그 결과물이 1to10json 임. 현재는 지움)\n",
    "- 지정한 태그 이외 나머지를 삭제 후 저장(test.json으로)\n",
    "- 이 후 게임 디테일 받아오기로 이어짐"
   ]
  },
  {
   "cell_type": "code",
   "execution_count": 1,
   "metadata": {},
   "outputs": [],
   "source": [
    "import json\n",
    "import requests\n",
    "import operator"
   ]
  },
  {
   "cell_type": "code",
   "execution_count": 8,
   "metadata": {},
   "outputs": [],
   "source": [
    "with open('jsonfolder/1to10.json', \"r\") as file_1to10:\n",
    "    jsonObject = json.load(file_1to10)"
   ]
  },
  {
   "cell_type": "code",
   "execution_count": 6,
   "metadata": {},
   "outputs": [],
   "source": [
    "# id 로 받아오기 사용 시\n",
    "# with open('game_by_id.json', \"r\") as file:\n",
    "#     jsonObject = json.load(file)"
   ]
  },
  {
   "cell_type": "code",
   "execution_count": 7,
   "metadata": {},
   "outputs": [],
   "source": [
    "compare_dict = {\"Arcade\" : 0, \"Horror\" : 0, \"Action\" : 0, \"Adventure\" : 0, \"Casual\" : 0, \"Strategy\" : 0, \n",
    "        \"FPS\" : 0, \"RPG\" : 0, \"Simulation\" : 0, \"Puzzle\" : 0, \"2D\" : 0\n",
    "       , \"Atmospheric\" : 0, \"Story Rich\" : 0, \"Sci-fi\" : 0, \"Fantasy\" : 0, \"Colorful\" : 0}\n"
   ]
  },
  {
   "cell_type": "code",
   "execution_count": 8,
   "metadata": {},
   "outputs": [],
   "source": [
    "json1= []\n",
    "temp_list = []\n",
    "tempdict = {}"
   ]
  },
  {
   "cell_type": "code",
   "execution_count": 19,
   "metadata": {},
   "outputs": [
    {
     "name": "stdout",
     "output_type": "stream",
     "text": [
      "태그가 없습니다. : 0\n",
      "태그가 없습니다. : 2\n",
      "태그가 없습니다. : 4\n",
      "태그가 없습니다. : 9\n",
      "10\n",
      "태그가 없습니다. : 13\n",
      "20\n",
      "30\n",
      "40\n",
      "50\n",
      "60\n"
     ]
    }
   ],
   "source": [
    "i = 0\n",
    "\n",
    "make_file = open('test.json', 'a+', encoding='utf-8')\n",
    "make_file.write('{')\n",
    "\n",
    "for key in jsonObject:\n",
    "    url = requests.get(\"https://steamspy.com/api.php?request=appdetails&appid=\"+key)\n",
    "    text = url.text\n",
    "    json_data = json.loads(text)\n",
    "    try:\n",
    "        json_data[\"tags\"] = {i:j for i,j in json_data[\"tags\"].items() if i in compare_dict}\n",
    "    except:\n",
    "        json_data[\"tags\"] = dict({})\n",
    "        print(\"태그가 없습니다. : \" + str(i))\n",
    "    i = i+1\n",
    "    if i % 10 == 0:\n",
    "        print(i)\n",
    "    \n",
    "    make_file.write('\"'+key+'\":')\n",
    "    json.dump(json_data, make_file, indent=\"\\t\")\n",
    "    if i == len(jsonObject):\n",
    "        break;\n",
    "    make_file.write(',\\n')\n",
    "        \n",
    "make_file.write('}')\n",
    "make_file.close()"
   ]
  }
 ],
 "metadata": {
  "kernelspec": {
   "display_name": "Python 3",
   "language": "python",
   "name": "python3"
  },
  "language_info": {
   "codemirror_mode": {
    "name": "ipython",
    "version": 3
   },
   "file_extension": ".py",
   "mimetype": "text/x-python",
   "name": "python",
   "nbconvert_exporter": "python",
   "pygments_lexer": "ipython3",
   "version": "3.7.6"
  }
 },
 "nbformat": 4,
 "nbformat_minor": 4
}
