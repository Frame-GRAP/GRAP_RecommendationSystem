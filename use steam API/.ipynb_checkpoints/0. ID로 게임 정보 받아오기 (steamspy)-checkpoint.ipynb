{
 "cells": [
  {
   "cell_type": "code",
   "execution_count": 10,
   "metadata": {},
   "outputs": [],
   "source": [
    "import json\n",
    "import requests\n",
    "import operator"
   ]
  },
  {
   "cell_type": "code",
   "execution_count": 8,
   "metadata": {},
   "outputs": [],
   "source": [
    "starter_id_list = ['1118010', '851850', '1426300', '601150', '1090150', '680420', '1174180',\n",
    "          '892970', '960170', '1235743', '1097150', '601510', '872410', '1238440',\n",
    "          '304212', '1080110', '779340', '289070', '813780', '231430', '924980',\n",
    "          '1185560', '1113560', '1450080', '105600', '588650', '1282730', '367520',\n",
    "          '424840', '418370', '374320', '1196590', '736260', '400', '288160', '477160',\n",
    "          '524220', '8870', '1328670', '1222140', '489830', '637650', '594570', '1257290',\n",
    "          '285900', '493340', '433340', '1259790', '8500', '1091500', '281990', '1237970',\n",
    "          '1089090', '389730', '250180', '310950', '730', '393080', '1238860', '550',\n",
    "          '739630', '967050', '238320', '381210']"
   ]
  },
  {
   "cell_type": "code",
   "execution_count": 12,
   "metadata": {},
   "outputs": [],
   "source": [
    "new_popular_id_list = ['978300', '1586830', '1301210', '1580970', '1167140',\n",
    "                       '1259420', '848450', '1484280', '829590', '1082430', '11196590']\n"
   ]
  },
  {
   "cell_type": "code",
   "execution_count": 13,
   "metadata": {},
   "outputs": [
    {
     "name": "stdout",
     "output_type": "stream",
     "text": [
      "0\n",
      "10\n"
     ]
    }
   ],
   "source": [
    "i = 0\n",
    "\n",
    "make_file = open('new_popular_by_id.json', 'a+', encoding='utf-8')\n",
    "make_file.write('{')\n",
    "\n",
    "for key in new_popular_id_list:\n",
    "    if i % 10 == 0:\n",
    "        print(i)\n",
    "    url = requests.get(\"https://steamspy.com/api.php?request=appdetails&appid=\"+key)\n",
    "    text = url.text\n",
    "    json_data = json.loads(text)\n",
    "    i = i+1\n",
    "    \n",
    "    make_file.write('\"'+key+'\":')\n",
    "    json.dump(json_data, make_file, indent=\"\\t\")\n",
    "    if i == len(new_popular_id_list):\n",
    "        break;\n",
    "    make_file.write(',\\n')\n",
    "        \n",
    "make_file.write('}')\n",
    "make_file.close()"
   ]
  }
 ],
 "metadata": {
  "kernelspec": {
   "display_name": "Python 3",
   "language": "python",
   "name": "python3"
  },
  "language_info": {
   "codemirror_mode": {
    "name": "ipython",
    "version": 3
   },
   "file_extension": ".py",
   "mimetype": "text/x-python",
   "name": "python",
   "nbconvert_exporter": "python",
   "pygments_lexer": "ipython3",
   "version": "3.7.6"
  }
 },
 "nbformat": 4,
 "nbformat_minor": 4
}
